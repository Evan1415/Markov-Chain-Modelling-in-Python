{
 "cells": [
  {
   "cell_type": "markdown",
   "metadata": {},
   "source": [
    "# Problem 1: Calculating $\\pi$ with Monte Carlo\n",
    "\n",
    "The aim of this first problem is to write a code that calculates the value of $\\pi$ as discussed in the lecture. Recall that the idea is to place a circle of radius 1 inside a square of length 2. \"Stones\" are then randomly thrown into the square and the ones that land in the circle are counted. As more stones are thrown $\\pi$ can be approximated by $4 N_c/N_s$. Effectively, this amounts to:\n",
    "\n",
    "\n",
    "- Generate $x$ and $y$ random variables on (-1,+1)\n",
    "- Check the condition $x^2 + y^2 < 1$ \n",
    "- $N_c = N_c +1$ if the above condition is true \n",
    "- $N_s = N_s + 1$ always\n",
    "- Calculate $\\pi$\n",
    "\n",
    "Goal: show that the Monte Carlo error for the estimatation of $\\pi$ goes as $1/\\sqrt{N}$, where $N$ is the number of Monte Carlo runs. "
   ]
  },
  {
   "cell_type": "markdown",
   "metadata": {},
   "source": [
    "# Problem 2: Markov Chain Monte Carlo for the Ising Model "
   ]
  },
  {
   "cell_type": "markdown",
   "metadata": {},
   "source": [
    "The aim of this example is to study the two-dimensional Ising Model using a Monte Carlo algorithm and to see whether we can find evidence for a phase transition even though we will deal with a finite system. Recall the discussion of the Ising Model from the lecture.\n",
    "\n",
    "To practically solve this problem in Python, for the moment we will only deal with with the **(i)** setup of the problem and **(ii)** how to implement the Metropolis algorithm  "
   ]
  },
  {
   "cell_type": "markdown",
   "metadata": {},
   "source": [
    "### (i) Setup up a Class for the Ising Model \n",
    "\n",
    "To start we can establish a class for configuring the Ising Model. The constructor (__init__) should take T (temperature),J (interaction),L (lattice size) which will completely define the lattice structure. The spins can then take random values of $\\pm 1$ on the $L \\times L$ lattice. \n",
    "\n",
    "In addition to the constructor, the class should have energy and magenetisation methods that return the energy and magnetisation of the chosen Configuration. \n",
    "\n",
    "To that end, the class should have the following general structure:"
   ]
  },
  {
   "cell_type": "raw",
   "metadata": {},
   "source": [
    "class Configuration(object):\n",
    "    def __init__(self, L,T, ...):\n",
    "        self.size = L\n",
    "        self.beta = 1/T\n",
    "        self.spins = ...\n",
    "        ...\n",
    "    def energy(self):\n",
    "        ... ## energy expression\n",
    "        return e\n",
    "    def magnetization(self):\n",
    "        ... ## magnetisation expression \n",
    "        return m"
   ]
  },
  {
   "cell_type": "markdown",
   "metadata": {},
   "source": [
    "To make sure that the class that you have written is working the $\\pm 1$ elements of the can be converted to an image and then plotted with Matplotlib: "
   ]
  },
  {
   "cell_type": "raw",
   "metadata": {},
   "source": [
    "def config_to_image(config):\n",
    "    L = config.size\n",
    "    im = np.zeros([L,L,3])\n",
    "    for i,j in itertools.product(range(L), repeat=2):\n",
    "        im[i,j,:] = (1.,0,0) if config.spins[i,j]==1 else (0.,0,0)\n",
    "    return im\n",
    "\n",
    "import matplotlib.pyplot as plt\n",
    "plt.imshow(config_to_image(config))"
   ]
  },
  {
   "cell_type": "markdown",
   "metadata": {},
   "source": [
    "### (ii) The Metropolis Move \n",
    "\n",
    "The Metroplis Monte Carlo move should take an a specific Ising configuration and propose a move to another configuration according to the Metropolis Algorithm. To that end, a function can be written that computes the energy difference between the new and old configurations. The function should return a configuration decided by the acceptance criteria of the Metroplis algorithm."
   ]
  },
  {
   "cell_type": "raw",
   "metadata": {},
   "source": [
    " def metropolis_move(config):"
   ]
  },
  {
   "cell_type": "markdown",
   "metadata": {},
   "source": [
    "### (iii) Physical Observables - magnetisation \n",
    "The entire purpose of designing the Ising class and creating the Metropolis function is to be able to calculate relevent physical observables that can explain the underlying structure of the Ising Hamiltonian. Since successive configurations only differ by a spin-flip, the correlation between them is non-trivial and can be taken into account by only measuring quantities over cycles to ensure that the succssive configurations become decorrelated. Moreover, it is also important to let the Markov Chain reach it's stationary distribution implying that there should be a \"warm-up\" period where quantities that are to be measured are not averaged over during this time. \n",
    "\n",
    "Therefore, we need to introduce the following variables to control the calculations of avergages\n",
    "\n",
    "- length_cycle: the number of steps between two measurements to make sure we aren't sampling correlated configurations.\n",
    "- n_cyles: the total number of measuremants.\n",
    "- n_warmup: the initial number of cycles where no measurements are taken because the Markov chain hasn't reached a stationary distribution yet.\n",
    "\n",
    "To this end, devise a function that takes length_cycle, n_cycles and n_warmup as arguments and returns the magnetisation of the system. \n"
   ]
  },
  {
   "cell_type": "markdown",
   "metadata": {
    "collapsed": true
   },
   "source": [
    "### (iv) Full Monte Carlo simulation \n",
    "To study the Ising Model under a different range of temperatures, the Monte Carlo simulation must be performed at each temperature and good statistics must be obtained to be sure of the physical interpretation. To this end, calculate the ground state of each of the following observables across a different range of temperatures on a lattive of size L:\n",
    "- Energy \n",
    "- Magnetisation \n",
    "- Specific Heat Capacity \n",
    "- Magnetic Susceptability\n",
    "Characterise the phase transition using the specific heat capacity (it diverages at the Curie temperature) and investigate how important finite size effects are in capturing this phenomena. \n"
   ]
  }
 ],
 "metadata": {
  "kernelspec": {
   "display_name": "Python 2",
   "language": "python",
   "name": "python2"
  },
  "language_info": {
   "codemirror_mode": {
    "name": "ipython",
    "version": 2
   },
   "file_extension": ".py",
   "mimetype": "text/x-python",
   "name": "python",
   "nbconvert_exporter": "python",
   "pygments_lexer": "ipython2",
   "version": "2.7.15"
  }
 },
 "nbformat": 4,
 "nbformat_minor": 2
}
