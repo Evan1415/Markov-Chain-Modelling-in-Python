{
 "cells": [
  {
   "cell_type": "markdown",
   "metadata": {},
   "source": [
    "## Solutions to Markov Chain Monte Carlo for the Ising Model \n",
    "Recall that the Hamiltonian for the Ising Model on a $L \\times L$ lattice is given by:\n",
    "$$ H = -J \\sum_{\\langle ij \\rangle} \\sigma_i \\sigma_j$$\n",
    "where $\\sigma_{i} = \\pm 1$ and $J>0$ is a ferromagnetic coupling. \n",
    "\n",
    "The main goal of this problem is to see if by using Markov Chain Monte Carlo for the Ising Model can we detect the presence of a phase transition in a finite system?\n",
    "\n",
    "Onsager found that the critical temperature of the phase transiton is given by $T_{c} \\approx 2.27$. This is relevent since we should expect to see a divergence in the heat capacity here, something that can be calculated directly from the Monte Carlo simulations. "
   ]
  },
  {
   "cell_type": "markdown",
   "metadata": {},
   "source": [
    "### (i) Setup up a Class for the Ising Model \n"
   ]
  },
  {
   "cell_type": "code",
   "execution_count": 292,
   "metadata": {
    "collapsed": true
   },
   "outputs": [],
   "source": [
    "import numpy as np\n",
    "import numpy.random as rnd\n",
    "\n",
    "class Configuration(object):\n",
    "    \n",
    "    \"\"\"\n",
    "    \n",
    "        Generates an Ising Configuration given by T, J and L\n",
    "    \n",
    "    \"\"\"\n",
    "\n",
    "    def __init__(self, T, J, L):\n",
    "        self.size = L\n",
    "        self.J = J\n",
    "        self.beta = 1./T\n",
    "        self.spins = rnd.choice([-1,1], size=(L,L))      # random numbers either -1 or +1\n",
    "        self.energy = self._get_energy()\n",
    "        self.magnetization = self._get_magnetization()\n",
    "        \n",
    "    def _get_energy(self):\n",
    "        \n",
    "        \"\"\"\n",
    "            Total energy of a configuration\n",
    "        \n",
    "        \"\"\"\n",
    "        \n",
    "        energy = 0.\n",
    "        #for i,j in itertools.product(range(self.size), repeat=2):\n",
    "        for i in range(self.size):\n",
    "            for j in range(self.size):\n",
    "                energy += (self.spins[i,j])*((self.spins[i,(j+1)%self.size] + self.spins[(i+1)%self.size,j] + \\\n",
    "                           self.spins[i,(j-1)%self.size] + self.spins[(i-1)%self.size,j]))\n",
    "        energy = -energy*(self.J) \n",
    "        return energy\n",
    "    \n",
    "    \n",
    "    \n",
    "    def _get_magnetization(self):\n",
    "        \n",
    "        \"\"\"\n",
    "            Total Magnetisation of a configuration\n",
    "                \n",
    "        \"\"\"\n",
    "        \n",
    "        magnetism = np.sum(self.spins)\n",
    "        return magnetism        \n",
    "    \n",
    "    \n",
    "    \n",
    "def config_to_image(config):\n",
    "    \"\"\"\n",
    "    \n",
    "        Array -> Image\n",
    "    \n",
    "    \"\"\"\n",
    "    \n",
    "    L = config.size\n",
    "    im = np.zeros([L,L,3])\n",
    "    for i in range(L):\n",
    "        for j in range(L):\n",
    "            im[i,j,:] = (1,2,3) if config.spins[i,j]==1 else (0,0,0)\n",
    "    return im"
   ]
  },
  {
   "cell_type": "markdown",
   "metadata": {},
   "source": [
    "To perform a sanity check, it is useful to make sure that configurations are being generated sensibly. Using imshow mehthod belonging to matplotlib allows this to be achieved. The utility of the class is clearly illustrated "
   ]
  },
  {
   "cell_type": "code",
   "execution_count": 246,
   "metadata": {},
   "outputs": [
    {
     "name": "stdout",
     "output_type": "stream",
     "text": [
      "Total magnetisation of configuration is =  -6  Total enegery of configuration is =  -8.0\n"
     ]
    },
    {
     "data": {
      "image/png": "[encoded data removed]",
      "text/plain": [
       "<matplotlib.figure.Figure at 0x15181b8cd0>"
      ]
     },
     "metadata": {},
     "output_type": "display_data"
    }
   ],
   "source": [
    "%matplotlib inline\n",
    "import matplotlib.pyplot as plt\n",
    "\n",
    "# Show the random configuration\n",
    "config = Configuration(4, 1.0, 6)\n",
    "#print(config_to_image(config))\n",
    "plt.imshow(config_to_image(config)) # uses imshow method from matplotlib to visualise the configuration\n",
    "plt.title(\"Visualisation of 2d Ising Configuration\")\n",
    "print \"Total magnetisation of configuration is = \", config.magnetization, \" Total enegery of configuration is = \", config.energy"
   ]
  },
  {
   "cell_type": "markdown",
   "metadata": {},
   "source": [
    "### (ii) The Metropolis Move \n",
    "In the code below we write a function that takes a configuration and does a single metropolis move on it. This amounts to choosing a random sping, then flipping it and finally checking if the spin satisfies the Metropolis criteria in order to change the configuration."
   ]
  },
  {
   "cell_type": "code",
   "execution_count": 262,
   "metadata": {
    "collapsed": true
   },
   "outputs": [],
   "source": [
    "def metropolis_move(config):\n",
    "    \"\"\"\n",
    "    Change configuration according to metropolis\n",
    "    \n",
    "    \"\"\"\n",
    "    \n",
    "    L = config.size\n",
    "    J = config.J\n",
    "    beta = config.beta\n",
    "    i, j = rnd.randint(L, size=(2)) # this picks a random site to flip \n",
    "    \n",
    "     \n",
    "    # energy difference\n",
    "    coef = 2*J*config.spins[i,j]\n",
    "    delta_energy = coef * (config.spins[i,(j+1)%L] + config.spins[(i+1)%L,j] + \\\n",
    "                           config.spins[i,(j-1)%L] + config.spins[(i-1)%L,j])\n",
    "    \n",
    "    accept_bool = \"No\"\n",
    "    \n",
    "    # Metroplis acceptance criteria for configuration change\n",
    "    if rnd.random() < np.exp(-beta*delta_energy):\n",
    "        accept_bool = \"Yes\"\n",
    "        config.spins[i,j] *= -1\n",
    "        config.energy += delta_energy\n",
    "        config.magnetization += 2*config.spins[i,j]\n",
    "        \n",
    "        \n",
    "    #print \"The chosen site to flip is:\" ,i, j \n",
    "    #print \"Is the flip accepted? \", accept_bool\n"
   ]
  },
  {
   "cell_type": "markdown",
   "metadata": {},
   "source": [
    "To check if the alogrithm is working, the print statements can be uncommented in metropolis_move() and the below code prints out if there has been a flip and a comparison between the old and new configurations can be made."
   ]
  },
  {
   "cell_type": "code",
   "execution_count": 261,
   "metadata": {},
   "outputs": [
    {
     "name": "stdout",
     "output_type": "stream",
     "text": [
      "The chosen site to flip is: 2 5\n",
      "Is the flip accepted?  Yes\n"
     ]
    },
    {
     "data": {
      "image/png": "[encoded data removed]",
      "text/plain": [
       "<matplotlib.figure.Figure at 0x1517c8b510>"
      ]
     },
     "metadata": {},
     "output_type": "display_data"
    }
   ],
   "source": [
    "plt.imshow(config_to_image(config), interpolation='none') # old configuration\n",
    "metropolis_move(config)"
   ]
  },
  {
   "cell_type": "code",
   "execution_count": 260,
   "metadata": {},
   "outputs": [
    {
     "data": {
      "text/plain": [
       "<matplotlib.image.AxesImage at 0x1517ca06d0>"
      ]
     },
     "execution_count": 260,
     "metadata": {},
     "output_type": "execute_result"
    },
    {
     "data": {
      "image/png": "[encoded data removed]",
      "text/plain": [
       "<matplotlib.figure.Figure at 0x115d6a750>"
      ]
     },
     "metadata": {},
     "output_type": "display_data"
    }
   ],
   "source": [
    "plt.imshow(config_to_image(config), interpolation='none') # new configuration "
   ]
  },
  {
   "cell_type": "markdown",
   "metadata": {},
   "source": [
    "### (iii) Physical Observables\n",
    "To understand the physics of the problem it is necessary to perform some more quantitative measurements, especially those that can be derived from the energy and magnetisation of the system. Effectively, this amounts to taking averages. Since successive configurations only differ by a spin-flip, the correlation between them is non-trivial and can be taken into account by only measuring quantities over cycles to ensure that the succssive configurations become decorrelated. Moreover, it is also important to let the Markov Chain reach it's stationary distribution implying that there should be a \"warm-up\" period where quantities that are to be measured are not averaged over during this time. \n",
    "\n",
    "Therefore, we need to introduce the following variables to control the calculations of avergages\n",
    "\n",
    "- length_cycle: the number of steps between two measurements to make sure we aren't sampling correlated configurations.\n",
    "- n_cyles: the total number of measuremants.\n",
    "- n_warmup: the initial number of cycles where no measurements are taken because the Markov chain hasn't reached a stationary distribution yet.\n",
    "\n",
    "As a simple example, the average magnetisation of the system can be calculated as:"
   ]
  },
  {
   "cell_type": "code",
   "execution_count": 289,
   "metadata": {},
   "outputs": [
    {
     "data": {
      "text/plain": [
       "(-1, 1)"
      ]
     },
     "execution_count": 289,
     "metadata": {},
     "output_type": "execute_result"
    },
    {
     "data": {
      "image/png": "[encoded data removed]",
      "text/plain": [
       "<matplotlib.figure.Figure at 0x115edd590>"
      ]
     },
     "metadata": {},
     "output_type": "display_data"
    }
   ],
   "source": [
    "%matplotlib inline\n",
    "\n",
    "L = 20\n",
    "T = 2.0\n",
    "\n",
    "n_warmup = 100 # number of warmup steps\n",
    "n_cycles = 500 # number of measurements of the magnetisation \n",
    "length_cycle = L**2 # number of metropolis moves in each cycle\n",
    "\n",
    "config = Configuration(T, 1.0, L) # starting configuration \n",
    "\n",
    "mag = np.zeros(n_cycles-n_warmup)\n",
    "\n",
    "# Monte Carlo\n",
    "for n in range(n_cycles):\n",
    "    for k in range(length_cycle):\n",
    "        metropolis_move(config)\n",
    "    if(n >= n_warmup):\n",
    "        mag[n-n_warmup] = config.magnetization\n",
    "mag /= float(L**2)\n",
    "        \n",
    "plt.plot(mag, '-')\n",
    "plt.title(\"Magnetization\", fontsize=25)\n",
    "plt.xlabel(\"$time$\", fontsize=15)\n",
    "plt.ylabel(\"$magnetidaton$\", fontsize=15)\n",
    "plt.ylim(-1,1)"
   ]
  },
  {
   "cell_type": "markdown",
   "metadata": {},
   "source": [
    "### (iv) Full Monte Carlo simulation \n",
    "The final step that needs be accomplished is to run a large scale Monte Carlo simulation for this model. This amounts to calculating the ground state observables at different temperatures. If there is a phase transition, there should be a signtaure of it in the observables. \n",
    "\n",
    "This step primarily amounts to ensuring that the inner loops of the Monte Carlo simulation are nested in the correct way. Making sure this is correct, the simulation effectively boils down to calculating averages. \n",
    "\n",
    "A good programming practice is to split code into production and post-production stages. All this means is that one part of the code will do all of the heavy lifting and dump all of that information into files. The files will then be read into. This way of programming allows you to only run a simulation once and to do all of the analysis on the data afterwards, instead of doing it in-situ with raw calculations. "
   ]
  },
  {
   "cell_type": "code",
   "execution_count": 290,
   "metadata": {},
   "outputs": [
    {
     "name": "stdout",
     "output_type": "stream",
     "text": [
      "T = 0.500000 and 5.56 percent done\n",
      "T = 1.000000 and 11.11 percent done\n",
      "T = 1.500000 and 16.67 percent done\n",
      "T = 2.000000 and 22.22 percent done\n",
      "T = 2.050000 and 27.78 percent done\n",
      "T = 2.100000 and 33.33 percent done\n",
      "T = 2.150000 and 38.89 percent done\n",
      "T = 2.200000 and 44.44 percent done\n",
      "T = 2.250000 and 50.00 percent done\n",
      "T = 2.300000 and 55.56 percent done\n",
      "T = 2.350000 and 61.11 percent done\n",
      "T = 2.400000 and 66.67 percent done\n",
      "T = 2.450000 and 72.22 percent done\n",
      "T = 2.500000 and 77.78 percent done\n",
      "T = 3.000000 and 83.33 percent done\n",
      "T = 3.500000 and 88.89 percent done\n",
      "T = 4.000000 and 94.44 percent done\n",
      "T = 4.500000 and 100.00 percent done\n"
     ]
    }
   ],
   "source": [
    "# create a temperature range \n",
    "temp_range = np.hstack([np.arange(0.5,2.,0.5), np.arange(2.,2.5,0.05), np.arange(2.5,5,0.5)])\n",
    "\n",
    "# initialise observable arrays \n",
    "mag = np.zeros_like(temp_range)\n",
    "energ = np.zeros_like(temp_range)\n",
    "chi = np.zeros_like(temp_range) # susceptibilty \n",
    "cv = np.zeros_like(temp_range) # heat capacity \n",
    "\n",
    "# lattice size\n",
    "L = 4\n",
    "\n",
    "for i,T in enumerate(temp_range):\n",
    "\n",
    "    config = Configuration(T, 1.0, L)\n",
    "    \n",
    "    av_m, av_m2, av_e, av_e2 = 0,0,0,0\n",
    "\n",
    "    n_cycles = 10000\n",
    "    length_cycle = L*L\n",
    "    n_warmup = 1000\n",
    "\n",
    "    # Monte Carlo\n",
    "    for n in range(n_warmup+n_cycles):\n",
    "        \n",
    "        for k in range(length_cycle):\n",
    "            metropolis_move(config)\n",
    "        \n",
    "        if (n >= n_warmup):\n",
    "            av_e  += config.energy\n",
    "            av_e2 += config.energy**2\n",
    "            av_m  += config.magnetization\n",
    "            av_m2 += config.magnetization**2\n",
    "            \n",
    "    # normalise avergaes with respect to number of cycles\n",
    "    av_m  /= float(n_cycles)\n",
    "    av_m2 /= float(n_cycles)\n",
    "    av_e  /= float(n_cycles)\n",
    "    av_e2 /= float(n_cycles)\n",
    "            \n",
    "    # average over the lattice\n",
    "    fact = 1./L**2\n",
    "    mag[i] = fact * av_m\n",
    "    energ[i] = fact * av_e\n",
    "    cv[i] = fact * (av_e2 - av_e**2) / T**2 # heat capacity \n",
    "    chi[i] = fact * (av_m2 - av_m**2) / T # susceptabilty\n",
    "    \n",
    "    # printing progress\n",
    "    print \"T = %f and %.2f percent done\"%(T, (100.*(i+1))/len(temp_range))\n",
    "\n",
    "\n",
    "# save the arrays into a file \n",
    "np.savetxt(\"energ_%i.dat\"%L, energ)\n",
    "np.savetxt(\"mag_%i.dat\"%L, mag)\n",
    "np.savetxt(\"cv_%i.dat\"%L, cv)\n",
    "np.savetxt(\"chi_%i.dat\"%L, chi)"
   ]
  },
  {
   "cell_type": "markdown",
   "metadata": {},
   "source": [
    "Finally, we can plot the results from the data files:"
   ]
  },
  {
   "cell_type": "code",
   "execution_count": 247,
   "metadata": {},
   "outputs": [
    {
     "data": {
      "text/plain": [
       "(0, 2)"
      ]
     },
     "execution_count": 247,
     "metadata": {},
     "output_type": "execute_result"
    },
    {
     "data": {
      "image/png": "[encoded data removed]",
      "text/plain": [
       "<matplotlib.figure.Figure at 0x1155ec0d0>"
      ]
     },
     "metadata": {},
     "output_type": "display_data"
    }
   ],
   "source": [
    "%matplotlib inline\n",
    "import matplotlib.pyplot as plt\n",
    "\n",
    "L = 4\n",
    "Tc = 2./(np.log(1+np.sqrt(2)))\n",
    "\n",
    "energ = np.loadtxt(\"energ_%i.dat\"%L)\n",
    "mag = np.loadtxt(\"mag_%i.dat\"%L)\n",
    "cv = np.loadtxt(\"cv_%i.dat\"%L)\n",
    "chi = np.loadtxt(\"chi_%i.dat\"%L)\n",
    "\n",
    "#plt.plot(temp_range, np.loadtxt(\"energ_%i.dat\"%L)+2, '-o', label=\"energy\")\n",
    "#plt.plot(temp_range, np.abs(np.loadtxt(\"mag_%i.dat\"%L)), '-o', label=\"magnetization\")\n",
    "plt.plot(temp_range, np.loadtxt(\"cv_%i.dat\"%L), '-o', label=\"specific heat\")\n",
    "plt.plot(temp_range, np.loadtxt(\"chi_%i.dat\"%L)/10, '-o', label=\"susceptibility\")\n",
    "\n",
    "plt.plot([Tc,Tc], [0,1.6], '--', lw=3)\n",
    "plt.legend()\n",
    "plt.title(\"Physical quantities\", fontsize=25)\n",
    "plt.xlabel(\"$T$\", fontsize=20)\n",
    "plt.ylim(0,2)"
   ]
  },
  {
   "cell_type": "markdown",
   "metadata": {
    "collapsed": true
   },
   "source": [
    "If we take the case of the of specific heat capacity, there is an indication of a divergence at the transition temperature, which is indicative of a phase transition.\n",
    "\n",
    "\n",
    "An interesting study is to explore different values of $L$ and see if this divergence becomes more dramatic at the transition temperature, demonstrating that we can see artifacts of the phase transition in a finite system and justifying the use of the Monte Carlo method. "
   ]
  }
 ],
 "metadata": {
  "kernelspec": {
   "display_name": "Python 2",
   "language": "python",
   "name": "python2"
  },
  "language_info": {
   "codemirror_mode": {
    "name": "ipython",
    "version": 2
   },
   "file_extension": ".py",
   "mimetype": "text/x-python",
   "name": "python",
   "nbconvert_exporter": "python",
   "pygments_lexer": "ipython2",
   "version": "2.7.15"
  }
 },
 "nbformat": 4,
 "nbformat_minor": 2
}
